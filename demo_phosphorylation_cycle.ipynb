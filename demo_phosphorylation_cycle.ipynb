{
 "cells": [
  {
   "cell_type": "code",
   "execution_count": 3,
   "id": "dc3ca640",
   "metadata": {},
   "outputs": [],
   "source": [
    "import SensitivityAnalysis as sas\n",
    "import tellurium as te"
   ]
  },
  {
   "cell_type": "code",
   "execution_count": 4,
   "id": "33137ce7",
   "metadata": {},
   "outputs": [],
   "source": [
    "model = \"\"\"\n",
    "v1: A -> AP; Vm1*A*K/(Km1 + A)\n",
    "v2: AP -> A; Vm2*AP/(Km2 + AP)\n",
    "\n",
    "A = 10; AP = 0\n",
    "Vm1 = 15; Vm2 = 15\n",
    "Km1 = 0.1; Km2 = 0.1\n",
    "\n",
    "K = 1\"\"\"\n",
    "\n",
    "# Loading model\n",
    "r = te.loada(model)\n",
    "r.conservedMoietyAnalysis = True"
   ]
  },
  {
   "cell_type": "code",
   "execution_count": 5,
   "id": "9a42674c",
   "metadata": {},
   "outputs": [],
   "source": [
    "deriv, error = sas.getCC(r, \"K\", \"AP\")"
   ]
  },
  {
   "cell_type": "code",
   "execution_count": 6,
   "id": "f146b44d",
   "metadata": {},
   "outputs": [
    {
     "data": {
      "text/plain": [
       "25.500000002871467"
      ]
     },
     "execution_count": 6,
     "metadata": {},
     "output_type": "execute_result"
    }
   ],
   "source": [
    "deriv"
   ]
  },
  {
   "cell_type": "code",
   "execution_count": null,
   "id": "b0d5badc",
   "metadata": {},
   "outputs": [],
   "source": []
  }
 ],
 "metadata": {
  "kernelspec": {
   "display_name": "Python [conda env:SauroLab] *",
   "language": "python",
   "name": "conda-env-SauroLab-py"
  },
  "language_info": {
   "codemirror_mode": {
    "name": "ipython",
    "version": 3
   },
   "file_extension": ".py",
   "mimetype": "text/x-python",
   "name": "python",
   "nbconvert_exporter": "python",
   "pygments_lexer": "ipython3",
   "version": "3.8.11"
  }
 },
 "nbformat": 4,
 "nbformat_minor": 5
}
